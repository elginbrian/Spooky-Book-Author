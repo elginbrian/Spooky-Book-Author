{
 "cells": [
  {
   "cell_type": "markdown",
   "id": "55416075",
   "metadata": {},
   "source": [
    "# Spooky Books Author Prediction\n",
    "\n",
    "Langkah langkah yang dilakukan:\n",
    "1. Memuat data\n",
    "2. Melakukan eksplorasi singkat\n",
    "3. Preprocessing teks menggunakan TF-IDF\n",
    "4. Melatih model Logistic Regression multinomial\n",
    "5. Memprediksi probabilitas dan membuat file submission\n"
   ]
  },
  {
   "cell_type": "markdown",
   "id": "3f4db5c8",
   "metadata": {},
   "source": [
    "## 1. Import Libraries\n",
    "Pertama, kita import library yang diperlukan:\n",
    "- `pandas` untuk manipulasi data\n",
    "- `TfidfVectorizer` dari `sklearn` untuk konversi teks ke vektor TF-IDF\n",
    "- `LogisticRegression` dari `sklearn` untuk model klasifikasi"
   ]
  },
  {
   "cell_type": "code",
   "execution_count": 1,
   "id": "f672d25d",
   "metadata": {},
   "outputs": [],
   "source": [
    "import pandas as pd\n",
    "from sklearn.feature_extraction.text import TfidfVectorizer\n",
    "from sklearn.linear_model import LogisticRegression"
   ]
  },
  {
   "cell_type": "markdown",
   "id": "fe14d122",
   "metadata": {},
   "source": [
    "## 2. Load Data\n",
    "Memuat file CSV berikut yang sudah di-upload:\n",
    "- `train.csv`: data latih berisi 3 kolom (`id`, `text`, `author`)\n",
    "- `test.csv`: data uji berisi 2 kolom (`id`, `text`)\n",
    "- `sample_submission.csv`: contoh format file submission"
   ]
  },
  {
   "cell_type": "code",
   "execution_count": 2,
   "id": "7e9d0858",
   "metadata": {},
   "outputs": [
    {
     "name": "stdout",
     "output_type": "stream",
     "text": [
      "Train shape: (19579, 3)\n",
      "Test shape: (8392, 2)\n",
      "Sample submission shape: (8392, 4)\n"
     ]
    }
   ],
   "source": [
    "# Load data\n",
    "train = pd.read_csv('./train/train.csv')\n",
    "test = pd.read_csv('./test/test.csv')\n",
    "sample_sub = pd.read_csv('./sample_submission/sample_submission.csv')\n",
    "\n",
    "# Tampilkan ukuran data\n",
    "print(f\"Train shape: {train.shape}\")\n",
    "print(f\"Test shape: {test.shape}\")\n",
    "print(f\"Sample submission shape: {sample_sub.shape}\")"
   ]
  },
  {
   "cell_type": "markdown",
   "id": "656012f2",
   "metadata": {},
   "source": [
    "**Penjelasan**:\n",
    "- `train.shape` menunjukkan jumlah baris dan kolom di data latih.\n",
    "- Data latih memiliki label `author` yang akan kita prediksi.\n",
    "- Data uji belum memiliki label, dan kita akan mengisi probabilitas setiap kelas."
   ]
  },
  {
   "cell_type": "markdown",
   "id": "e2c06f4e",
   "metadata": {},
   "source": [
    "## 3. Prepare Features and Labels\n",
    "Pisahkan kolom teks sebagai fitur dan kolom penulis sebagai target."
   ]
  },
  {
   "cell_type": "code",
   "execution_count": 3,
   "id": "116edbc9",
   "metadata": {},
   "outputs": [],
   "source": [
    "# Fitur (X) dan target (y)\n",
    "X_train = train['text']\n",
    "y_train = train['author']\n",
    "X_test = test['text']"
   ]
  },
  {
   "cell_type": "markdown",
   "id": "14276a92",
   "metadata": {},
   "source": [
    "## 4. Text Preprocessing with TF-IDF\n",
    "Kita gunakan TF-IDF untuk mengubah teks menjadi vektor numerik.\n",
    "- `max_features=5000`: Batasi dimensi vektor\n",
    "- `ngram_range=(1,2)`: Gunakan unigram dan bigram\n",
    "- `stop_words='english'`: Hapus kata umum bahasa Inggris"
   ]
  },
  {
   "cell_type": "code",
   "execution_count": 4,
   "id": "7983c7b6",
   "metadata": {},
   "outputs": [
    {
     "name": "stdout",
     "output_type": "stream",
     "text": [
      "TF-IDF selesai. Bentuk matriks fitur:\n",
      "X_train_tfidf: (19579, 5000)\n",
      "X_test_tfidf: (8392, 5000)\n"
     ]
    }
   ],
   "source": [
    "# Inisialisasi TF-IDF vectorizer\n",
    "vectorizer = TfidfVectorizer(\n",
    "    max_features=5000,\n",
    "    ngram_range=(1,2),\n",
    "    stop_words='english'\n",
    ")\n",
    "\n",
    "# Fit pada data latih dan transformasi pada data latih + uji\n",
    "X_train_tfidf = vectorizer.fit_transform(X_train)\n",
    "X_test_tfidf = vectorizer.transform(X_test)\n",
    "\n",
    "print(\"TF-IDF selesai. Bentuk matriks fitur:\")\n",
    "print(\"X_train_tfidf:\", X_train_tfidf.shape)\n",
    "print(\"X_test_tfidf:\", X_test_tfidf.shape)"
   ]
  },
  {
   "cell_type": "markdown",
   "id": "bd149775",
   "metadata": {},
   "source": [
    "## 5. Train Logistic Regression Model\n",
    "Melatih model `LogisticRegression` dengan solver `saga`:\n",
    "- `multi_class='multinomial'` untuk klasifikasi multi-kelas\n",
    "- `max_iter=1000` untuk memastikan konvergensi\n",
    "- `random_state=42` agar hasil bisa direproduksi"
   ]
  },
  {
   "cell_type": "code",
   "execution_count": 5,
   "id": "85151448",
   "metadata": {},
   "outputs": [
    {
     "name": "stderr",
     "output_type": "stream",
     "text": [
      "C:\\Users\\LENOVO\\AppData\\Local\\Packages\\PythonSoftwareFoundation.Python.3.11_qbz5n2kfra8p0\\LocalCache\\local-packages\\Python311\\site-packages\\sklearn\\linear_model\\_logistic.py:1247: FutureWarning: 'multi_class' was deprecated in version 1.5 and will be removed in 1.7. From then on, it will always use 'multinomial'. Leave it to its default value to avoid this warning.\n",
      "  warnings.warn(\n"
     ]
    },
    {
     "name": "stdout",
     "output_type": "stream",
     "text": [
      "Model berhasil dilatih.\n"
     ]
    }
   ],
   "source": [
    "# Inisialisasi dan pelatihan model\n",
    "model = LogisticRegression(\n",
    "    multi_class='multinomial',\n",
    "    solver='saga',\n",
    "    max_iter=1000,\n",
    "    random_state=42\n",
    ")\n",
    "model.fit(X_train_tfidf, y_train)\n",
    "\n",
    "print(\"Model berhasil dilatih.\")"
   ]
  },
  {
   "cell_type": "markdown",
   "id": "e5b85980",
   "metadata": {},
   "source": [
    "## 6. Predict Probabilities and Create Submission\n",
    "Menghitung probabilitas prediksi untuk setiap kelas (`EAP`, `HPL`, `MWS`) pada data uji dan membuat DataFrame submission."
   ]
  },
  {
   "cell_type": "code",
   "execution_count": 6,
   "id": "c374031f",
   "metadata": {},
   "outputs": [
    {
     "data": {
      "text/html": [
       "<div>\n",
       "<style scoped>\n",
       "    .dataframe tbody tr th:only-of-type {\n",
       "        vertical-align: middle;\n",
       "    }\n",
       "\n",
       "    .dataframe tbody tr th {\n",
       "        vertical-align: top;\n",
       "    }\n",
       "\n",
       "    .dataframe thead th {\n",
       "        text-align: right;\n",
       "    }\n",
       "</style>\n",
       "<table border=\"1\" class=\"dataframe\">\n",
       "  <thead>\n",
       "    <tr style=\"text-align: right;\">\n",
       "      <th></th>\n",
       "      <th>id</th>\n",
       "      <th>EAP</th>\n",
       "      <th>HPL</th>\n",
       "      <th>MWS</th>\n",
       "    </tr>\n",
       "  </thead>\n",
       "  <tbody>\n",
       "    <tr>\n",
       "      <th>0</th>\n",
       "      <td>id02310</td>\n",
       "      <td>0.278435</td>\n",
       "      <td>0.085087</td>\n",
       "      <td>0.636478</td>\n",
       "    </tr>\n",
       "    <tr>\n",
       "      <th>1</th>\n",
       "      <td>id24541</td>\n",
       "      <td>0.785862</td>\n",
       "      <td>0.128351</td>\n",
       "      <td>0.085787</td>\n",
       "    </tr>\n",
       "    <tr>\n",
       "      <th>2</th>\n",
       "      <td>id00134</td>\n",
       "      <td>0.466790</td>\n",
       "      <td>0.465800</td>\n",
       "      <td>0.067410</td>\n",
       "    </tr>\n",
       "    <tr>\n",
       "      <th>3</th>\n",
       "      <td>id27757</td>\n",
       "      <td>0.739007</td>\n",
       "      <td>0.212420</td>\n",
       "      <td>0.048573</td>\n",
       "    </tr>\n",
       "    <tr>\n",
       "      <th>4</th>\n",
       "      <td>id04081</td>\n",
       "      <td>0.775821</td>\n",
       "      <td>0.150436</td>\n",
       "      <td>0.073742</td>\n",
       "    </tr>\n",
       "  </tbody>\n",
       "</table>\n",
       "</div>"
      ],
      "text/plain": [
       "        id       EAP       HPL       MWS\n",
       "0  id02310  0.278435  0.085087  0.636478\n",
       "1  id24541  0.785862  0.128351  0.085787\n",
       "2  id00134  0.466790  0.465800  0.067410\n",
       "3  id27757  0.739007  0.212420  0.048573\n",
       "4  id04081  0.775821  0.150436  0.073742"
      ]
     },
     "execution_count": 6,
     "metadata": {},
     "output_type": "execute_result"
    }
   ],
   "source": [
    "# Prediksi probabilitas\n",
    "probs = model.predict_proba(X_test_tfidf)\n",
    "classes = model.classes_\n",
    "\n",
    "# Buat DataFrame submission\n",
    "submission = pd.DataFrame(probs, columns=classes)\n",
    "submission.insert(0, 'id', test['id'])\n",
    "submission = submission[['id', 'EAP', 'HPL', 'MWS']]\n",
    "\n",
    "# Tampilkan 5 baris pertama\n",
    "submission.head()"
   ]
  },
  {
   "cell_type": "markdown",
   "id": "66ea7c8a",
   "metadata": {},
   "source": [
    "## 7. Save Submission File\n",
    "Menyimpan file `submission.csv` sesuai format kompetisi:\n",
    "```csv\n",
    "id,EAP,HPL,MWS\n",
    "idXXXXX,0.33,0.33,0.33\n",
    "```"
   ]
  },
  {
   "cell_type": "code",
   "execution_count": 7,
   "id": "805bf964",
   "metadata": {},
   "outputs": [
    {
     "name": "stdout",
     "output_type": "stream",
     "text": [
      "File submission.csv berhasil disimpan.\n"
     ]
    }
   ],
   "source": [
    "# Simpan ke CSV\n",
    "submission.to_csv('./sample_submission/submission.csv', index=False)\n",
    "print(\"File submission.csv berhasil disimpan.\")"
   ]
  }
 ],
 "metadata": {
  "kernelspec": {
   "display_name": "Python 3",
   "language": "python",
   "name": "python3"
  },
  "language_info": {
   "codemirror_mode": {
    "name": "ipython",
    "version": 3
   },
   "file_extension": ".py",
   "mimetype": "text/x-python",
   "name": "python",
   "nbconvert_exporter": "python",
   "pygments_lexer": "ipython3",
   "version": "3.11.9"
  }
 },
 "nbformat": 4,
 "nbformat_minor": 5
}
