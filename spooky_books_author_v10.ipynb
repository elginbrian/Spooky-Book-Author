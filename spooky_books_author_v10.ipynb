{
 "cells": [
  {
   "cell_type": "markdown",
   "id": "df760dd6",
   "metadata": {},
   "source": [
    "# Spooky Books Author Prediction - v10\n",
    "Advanced TF-IDF + engineered features, calibrated models, and optimized voting weights via CV."
   ]
  },
  {
   "cell_type": "markdown",
   "id": "18a01d81",
   "metadata": {},
   "source": [
    "## 1. Import Libraries"
   ]
  },
  {
   "cell_type": "code",
   "execution_count": 16,
   "id": "40aea8ca",
   "metadata": {},
   "outputs": [],
   "source": [
    "import pandas as pd\n",
    "import numpy as np\n",
    "from scipy.stats import loguniform\n",
    "from sklearn.model_selection import StratifiedKFold, RandomizedSearchCV\n",
    "from sklearn.feature_extraction.text import TfidfVectorizer\n",
    "from sklearn.linear_model import LogisticRegression\n",
    "from sklearn.naive_bayes import MultinomialNB\n",
    "from sklearn.calibration import CalibratedClassifierCV\n",
    "from sklearn.metrics import log_loss\n",
    "from scipy.sparse import hstack\n",
    "import re"
   ]
  },
  {
   "cell_type": "markdown",
   "id": "e7a02e48",
   "metadata": {},
   "source": [
    "## 2. Load & Encode Data"
   ]
  },
  {
   "cell_type": "code",
   "execution_count": 17,
   "id": "2b288c30",
   "metadata": {},
   "outputs": [
    {
     "name": "stdout",
     "output_type": "stream",
     "text": [
      "Classes: ['EAP' 'HPL' 'MWS']\n",
      "Train shape: (19579, 3) Test shape: (8392, 2)\n"
     ]
    }
   ],
   "source": [
    "train = pd.read_csv('./train/train.csv')\n",
    "test  = pd.read_csv('./test/test.csv')\n",
    "X_text = train['text']\n",
    "y = train['author']\n",
    "X_test_text = test['text']\n",
    "\n",
    "from sklearn.preprocessing import LabelEncoder\n",
    "le = LabelEncoder()\n",
    "y_enc = le.fit_transform(y)\n",
    "print('Classes:', le.classes_)\n",
    "print('Train shape:', train.shape, 'Test shape:', test.shape)"
   ]
  },
  {
   "cell_type": "markdown",
   "id": "142178a5",
   "metadata": {},
   "source": [
    "## 3. Feature Engineering Functions"
   ]
  },
  {
   "cell_type": "code",
   "execution_count": 18,
   "id": "44557163",
   "metadata": {},
   "outputs": [],
   "source": [
    "def text_features(texts):\n",
    "    df = pd.DataFrame()\n",
    "    df['char_count'] = texts.str.len()\n",
    "    df['word_count'] = texts.str.split().apply(len)\n",
    "    df['avg_word_len'] = df['char_count'] / df['word_count']\n",
    "    df['punct_count'] = texts.apply(lambda x: len(re.findall(r'[.,!?;]', x)))\n",
    "    return df.fillna(0)\n",
    "\n",
    "# Compute engineered features\n",
    "feat_train = text_features(X_text)\n",
    "feat_test = text_features(X_test_text)"
   ]
  },
  {
   "cell_type": "markdown",
   "id": "d2a327c7",
   "metadata": {},
   "source": [
    "## 4. TF-IDF + Engineered Features"
   ]
  },
  {
   "cell_type": "code",
   "execution_count": 19,
   "id": "0852ef7c",
   "metadata": {},
   "outputs": [],
   "source": [
    "# TF-IDF vectorizers with sublinear_tf and smooth_idf\n",
    "word_tf = TfidfVectorizer(\n",
    "    ngram_range=(1,2), max_features=15000, stop_words='english',\n",
    "    sublinear_tf=True, smooth_idf=True\n",
    ")\n",
    "char_tf = TfidfVectorizer(\n",
    "    analyzer='char_wb', ngram_range=(3,5), max_features=5000,\n",
    "    sublinear_tf=True, smooth_idf=True\n",
    ")\n",
    "\n",
    "# Transform text\n",
    "X_word = word_tf.fit_transform(X_text)\n",
    "X_char = char_tf.fit_transform(X_text)\n",
    "X_tfidf = hstack([X_word, X_char])\n",
    "\n",
    "# Combine with engineered numeric features\n",
    "from scipy.sparse import csr_matrix\n",
    "X_num = csr_matrix(feat_train.values)\n",
    "X = hstack([X_tfidf, X_num])\n",
    "\n",
    "# Test data\n",
    "X_test_tfidf = hstack([word_tf.transform(X_test_text), char_tf.transform(X_test_text)])\n",
    "X_test = hstack([X_test_tfidf, csr_matrix(feat_test.values)])"
   ]
  },
  {
   "cell_type": "markdown",
   "id": "b62a2f07",
   "metadata": {},
   "source": [
    "## 5. Model Tuning with Calibration"
   ]
  },
  {
   "cell_type": "code",
   "execution_count": 20,
   "id": "d7c8ea74",
   "metadata": {},
   "outputs": [
    {
     "name": "stderr",
     "output_type": "stream",
     "text": [
      "C:\\Users\\LENOVO\\AppData\\Local\\Packages\\PythonSoftwareFoundation.Python.3.11_qbz5n2kfra8p0\\LocalCache\\local-packages\\Python311\\site-packages\\sklearn\\linear_model\\_logistic.py:1247: FutureWarning: 'multi_class' was deprecated in version 1.5 and will be removed in 1.7. From then on, it will always use 'multinomial'. Leave it to its default value to avoid this warning.\n",
      "  warnings.warn(\n",
      "C:\\Users\\LENOVO\\AppData\\Local\\Packages\\PythonSoftwareFoundation.Python.3.11_qbz5n2kfra8p0\\LocalCache\\local-packages\\Python311\\site-packages\\sklearn\\linear_model\\_sag.py:348: ConvergenceWarning: The max_iter was reached which means the coef_ did not converge\n",
      "  warnings.warn(\n"
     ]
    },
    {
     "name": "stdout",
     "output_type": "stream",
     "text": [
      "LR best C: {'C': np.float64(63.512210106407046)}\n",
      "NB best alpha: {'alpha': np.float64(0.1)}\n"
     ]
    }
   ],
   "source": [
    "# Logistic Regression\n",
    "lr = LogisticRegression(solver='saga', multi_class='multinomial', max_iter=2000, random_state=42, n_jobs=-1)\n",
    "lr_cal = CalibratedClassifierCV(lr, cv=3, method='sigmoid')\n",
    "lr_search = RandomizedSearchCV(\n",
    "    lr, {'C': loguniform(1e-2, 1e2)}, n_iter=10,\n",
    "    scoring='neg_log_loss', cv=5, n_jobs=-1, random_state=42\n",
    ")\n",
    "lr_search.fit(X, y_enc)\n",
    "print('LR best C:', lr_search.best_params_)\n",
    "\n",
    "# Multinomial NB\n",
    "nb = MultinomialNB()\n",
    "nb_cal = CalibratedClassifierCV(nb, cv=3, method='sigmoid')\n",
    "nb_search = RandomizedSearchCV(\n",
    "    nb, {'alpha': np.linspace(0.1, 1.0, 10)}, n_iter=10,\n",
    "    scoring='neg_log_loss', cv=5, n_jobs=-1, random_state=42\n",
    ")\n",
    "nb_search.fit(X, y_enc)\n",
    "print('NB best alpha:', nb_search.best_params_)"
   ]
  },
  {
   "cell_type": "markdown",
   "id": "6c0439a4",
   "metadata": {},
   "source": [
    "## 6. Optimized Weighted Voting Ensemble"
   ]
  },
  {
   "cell_type": "code",
   "execution_count": 21,
   "id": "d3f2f655",
   "metadata": {},
   "outputs": [
    {
     "name": "stdout",
     "output_type": "stream",
     "text": [
      "Optimal weights -> LR: 0.00, NB: 1.00, Log Loss: 0.2476\n"
     ]
    }
   ],
   "source": [
    "skf = StratifiedKFold(n_splits=5, shuffle=True, random_state=42)\n",
    "test_preds = np.zeros((X_test.shape[0], len(le.classes_)))\n",
    "val_losses = []\n",
    "\n",
    "# Determine optimal weights via grid search over two weights\n",
    "best = {'loss': np.inf, 'w_lr': None}\n",
    "w_range = np.linspace(0, 1, 21)\n",
    "for w in w_range:\n",
    "    temp_losses = []\n",
    "    for tr, val in skf.split(X, y_enc):\n",
    "        p1 = lr_search.predict_proba(X[val])\n",
    "        p2 = nb_search.predict_proba(X[val])\n",
    "        loss = log_loss(y_enc[val], w*p1 + (1-w)*p2)\n",
    "        temp_losses.append(loss)\n",
    "    avg = np.mean(temp_losses)\n",
    "    if avg < best['loss']:\n",
    "        best = {'loss': avg, 'w_lr': w}\n",
    "w_lr = best['w_lr']; w_nb = 1 - w_lr\n",
    "print(f\"Optimal weights -> LR: {w_lr:.2f}, NB: {w_nb:.2f}, Log Loss: {best['loss']:.4f}\")\n",
    "\n",
    "# Generate test predictions\n",
    "for name, model, w in [('lr', lr_search, w_lr), ('nb', nb_search, w_nb)]:\n",
    "    test_preds += w * model.predict_proba(X_test)\n"
   ]
  },
  {
   "cell_type": "markdown",
   "id": "84c0eda8",
   "metadata": {},
   "source": [
    "## 7. Submission"
   ]
  },
  {
   "cell_type": "code",
   "execution_count": 22,
   "id": "3b6fae47",
   "metadata": {},
   "outputs": [
    {
     "name": "stdout",
     "output_type": "stream",
     "text": [
      "Saved: submission_v10.csv\n"
     ]
    }
   ],
   "source": [
    "submission = pd.DataFrame(test_preds, columns=le.classes_)\n",
    "submission.insert(0, 'id', test['id'])\n",
    "submission.to_csv('./sample_submission/submission_v10.csv', index=False)\n",
    "print('Saved: submission_v10.csv')"
   ]
  }
 ],
 "metadata": {
  "kernelspec": {
   "display_name": "Python 3",
   "language": "python",
   "name": "python3"
  },
  "language_info": {
   "codemirror_mode": {
    "name": "ipython",
    "version": 3
   },
   "file_extension": ".py",
   "mimetype": "text/x-python",
   "name": "python",
   "nbconvert_exporter": "python",
   "pygments_lexer": "ipython3",
   "version": "3.11.9"
  }
 },
 "nbformat": 4,
 "nbformat_minor": 5
}
