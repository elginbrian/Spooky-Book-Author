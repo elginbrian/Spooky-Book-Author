{
 "cells": [
  {
   "cell_type": "markdown",
   "id": "46a7889c",
   "metadata": {},
   "source": [
    "# Spooky Books Author Prediction - Version 8\n",
    "Unified stacked TF-IDF pipeline with three base learners, randomized hyperparameter search, and stratified cross-validation."
   ]
  },
  {
   "cell_type": "markdown",
   "id": "5908ae51",
   "metadata": {},
   "source": [
    "## 1. Import Libraries"
   ]
  },
  {
   "cell_type": "code",
   "execution_count": 1,
   "id": "c5c088e2",
   "metadata": {},
   "outputs": [],
   "source": [
    "import pandas as pd\n",
    "import numpy as np\n",
    "from scipy.stats import loguniform\n",
    "from scipy.sparse import hstack\n",
    "\n",
    "from sklearn.feature_extraction.text import TfidfVectorizer\n",
    "from sklearn.pipeline import Pipeline, FeatureUnion\n",
    "from sklearn.model_selection import StratifiedKFold, RandomizedSearchCV, cross_val_score\n",
    "from sklearn.linear_model import LogisticRegression\n",
    "from sklearn.naive_bayes import MultinomialNB\n",
    "from sklearn.svm import LinearSVC\n",
    "from sklearn.calibration import CalibratedClassifierCV\n",
    "from sklearn.ensemble import StackingClassifier\n",
    "from sklearn.metrics import log_loss"
   ]
  },
  {
   "cell_type": "markdown",
   "id": "52e1a189",
   "metadata": {},
   "source": [
    "## 2. Load Data"
   ]
  },
  {
   "cell_type": "code",
   "execution_count": 2,
   "id": "f4bc20f5",
   "metadata": {},
   "outputs": [
    {
     "name": "stdout",
     "output_type": "stream",
     "text": [
      "Train shape: (19579, 3)\n",
      "Test shape: (8392, 2)\n"
     ]
    }
   ],
   "source": [
    "train = pd.read_csv('./train/train.csv')\n",
    "test  = pd.read_csv('./test/test.csv')\n",
    "X_text, y = train['text'], train['author']\n",
    "X_test_text = test['text']\n",
    "print('Train shape:', train.shape)\n",
    "print('Test shape:', test.shape)"
   ]
  },
  {
   "cell_type": "markdown",
   "id": "cb77c6a9",
   "metadata": {},
   "source": [
    "## 3. Shared TF-IDF Feature Union"
   ]
  },
  {
   "cell_type": "code",
   "execution_count": 3,
   "id": "d576a752",
   "metadata": {},
   "outputs": [],
   "source": [
    "tfidf_union = FeatureUnion([\n",
    "    ('word', TfidfVectorizer(\n",
    "        ngram_range=(1,2), max_df=0.85, min_df=3,\n",
    "        max_features=12000, stop_words='english'\n",
    "    )),\n",
    "    ('char', TfidfVectorizer(\n",
    "        analyzer='char_wb', ngram_range=(3,5),\n",
    "        max_features=8000\n",
    "    )),\n",
    "])\n",
    "preprocessor = tfidf_union"
   ]
  },
  {
   "cell_type": "markdown",
   "id": "943e396b",
   "metadata": {},
   "source": [
    "## 4. Define Base Learner Pipelines"
   ]
  },
  {
   "cell_type": "code",
   "execution_count": 4,
   "id": "2c18db37",
   "metadata": {},
   "outputs": [],
   "source": [
    "base_pipelines = {\n",
    "    'lr': Pipeline([\n",
    "        ('tfidf', preprocessor),\n",
    "        ('clf', LogisticRegression(\n",
    "            multi_class='multinomial', solver='saga',\n",
    "            max_iter=2000, random_state=42, n_jobs=-1\n",
    "        ))\n",
    "    ]),\n",
    "\n",
    "    'nb': Pipeline([\n",
    "        ('tfidf', preprocessor),\n",
    "        ('clf', MultinomialNB())\n",
    "    ]),\n",
    "\n",
    "    'svc': Pipeline([\n",
    "        ('tfidf', preprocessor),\n",
    "        ('clf', CalibratedClassifierCV(\n",
    "            LinearSVC(max_iter=2000, random_state=42),\n",
    "            cv=3, method='sigmoid'\n",
    "        ))\n",
    "    ])\n",
    "}"
   ]
  },
  {
   "cell_type": "markdown",
   "id": "e2428d97",
   "metadata": {},
   "source": [
    "## 5. Randomized Hyperparameter Search"
   ]
  },
  {
   "cell_type": "code",
   "execution_count": 5,
   "id": "415d94a7",
   "metadata": {},
   "outputs": [
    {
     "name": "stdout",
     "output_type": "stream",
     "text": [
      "Tuning lr...\n"
     ]
    },
    {
     "name": "stderr",
     "output_type": "stream",
     "text": [
      "C:\\Users\\LENOVO\\AppData\\Local\\Packages\\PythonSoftwareFoundation.Python.3.11_qbz5n2kfra8p0\\LocalCache\\local-packages\\Python311\\site-packages\\sklearn\\linear_model\\_logistic.py:1247: FutureWarning: 'multi_class' was deprecated in version 1.5 and will be removed in 1.7. From then on, it will always use 'multinomial'. Leave it to its default value to avoid this warning.\n",
      "  warnings.warn(\n"
     ]
    },
    {
     "name": "stdout",
     "output_type": "stream",
     "text": [
      "lr best params: {'clf__C': np.float64(2.481040974867813)}, log-loss=0.4212\n",
      "\n",
      "Tuning nb...\n"
     ]
    },
    {
     "name": "stderr",
     "output_type": "stream",
     "text": [
      "C:\\Users\\LENOVO\\AppData\\Local\\Packages\\PythonSoftwareFoundation.Python.3.11_qbz5n2kfra8p0\\LocalCache\\local-packages\\Python311\\site-packages\\sklearn\\model_selection\\_search.py:317: UserWarning: The total space of parameters 5 is smaller than n_iter=6. Running 5 iterations. For exhaustive searches, use GridSearchCV.\n",
      "  warnings.warn(\n"
     ]
    },
    {
     "name": "stdout",
     "output_type": "stream",
     "text": [
      "nb best params: {'clf__alpha': np.float64(0.1)}, log-loss=0.4468\n",
      "\n",
      "Tuning svc...\n",
      "svc best params: {'clf__estimator__C': np.float64(0.31489116479568624)}, log-loss=0.4309\n",
      "\n"
     ]
    }
   ],
   "source": [
    "param_dists = {\n",
    "    'lr': {'clf__C': loguniform(1e-2, 1e2)},\n",
    "    'nb': {'clf__alpha': np.linspace(0.1, 1.0, 5)},\n",
    "    'svc': {'clf__estimator__C': loguniform(1e-2, 1e2)}\n",
    "}\n",
    "\n",
    "cv = StratifiedKFold(n_splits=5, shuffle=True, random_state=42)\n",
    "searches = {}\n",
    "for name, pipe in base_pipelines.items():\n",
    "    n_iter = 8 if name == 'lr' else 6\n",
    "    rs = RandomizedSearchCV(\n",
    "        pipe, param_dists[name], n_iter=n_iter,\n",
    "        scoring='neg_log_loss', cv=cv, n_jobs=-1, random_state=42\n",
    "    )\n",
    "    print(f\"Tuning {name}...\")\n",
    "    rs.fit(X_text, y)\n",
    "    print(f\"{name} best params: {rs.best_params_}, log-loss={-rs.best_score_:.4f}\\n\")\n",
    "    searches[name] = rs.best_estimator_"
   ]
  },
  {
   "cell_type": "markdown",
   "id": "bda3a756",
   "metadata": {},
   "source": [
    "## 6. Stacked Ensemble & Evaluation"
   ]
  },
  {
   "cell_type": "code",
   "execution_count": 6,
   "id": "72a95688",
   "metadata": {},
   "outputs": [
    {
     "name": "stdout",
     "output_type": "stream",
     "text": [
      "Stacking CV log-loss: 0.4044\n"
     ]
    }
   ],
   "source": [
    "estimators = [(name, est) for name, est in searches.items()]\n",
    "stack = StackingClassifier(\n",
    "    estimators=estimators,\n",
    "    final_estimator=LogisticRegression(\n",
    "        multi_class='multinomial', solver='saga', random_state=42\n",
    "    ),\n",
    "    cv=StratifiedKFold(n_splits=3, shuffle=True, random_state=42),\n",
    "    stack_method='predict_proba', n_jobs=-1\n",
    ")\n",
    "\n",
    "stack_loss = -cross_val_score(\n",
    "    stack, X_text, y, cv=cv, scoring='neg_log_loss', n_jobs=-1\n",
    ").mean()\n",
    "print(f\"Stacking CV log-loss: {stack_loss:.4f}\")"
   ]
  },
  {
   "cell_type": "markdown",
   "id": "7daa68c7",
   "metadata": {},
   "source": [
    "## 7. Final Training & Submission"
   ]
  },
  {
   "cell_type": "code",
   "execution_count": 7,
   "id": "40c4c94e",
   "metadata": {},
   "outputs": [
    {
     "name": "stderr",
     "output_type": "stream",
     "text": [
      "C:\\Users\\LENOVO\\AppData\\Local\\Packages\\PythonSoftwareFoundation.Python.3.11_qbz5n2kfra8p0\\LocalCache\\local-packages\\Python311\\site-packages\\sklearn\\linear_model\\_logistic.py:1247: FutureWarning: 'multi_class' was deprecated in version 1.5 and will be removed in 1.7. From then on, it will always use 'multinomial'. Leave it to its default value to avoid this warning.\n",
      "  warnings.warn(\n"
     ]
    },
    {
     "name": "stdout",
     "output_type": "stream",
     "text": [
      "Saved: spooky_books_author_v8.csv\n"
     ]
    }
   ],
   "source": [
    "stack.fit(X_text, y)\n",
    "probs = stack.predict_proba(X_test_text)\n",
    "\n",
    "submission = pd.DataFrame(probs, columns=stack.classes_)\n",
    "submission.insert(0, 'id', test['id'])\n",
    "submission = submission[['id', 'EAP', 'HPL', 'MWS']]\n",
    "submission.to_csv('./sample_submission/spooky_books_author_v8.csv', index=False)\n",
    "print(\"Saved: spooky_books_author_v8.csv\")"
   ]
  }
 ],
 "metadata": {
  "kernelspec": {
   "display_name": "Python 3",
   "language": "python",
   "name": "python3"
  },
  "language_info": {
   "codemirror_mode": {
    "name": "ipython",
    "version": 3
   },
   "file_extension": ".py",
   "mimetype": "text/x-python",
   "name": "python",
   "nbconvert_exporter": "python",
   "pygments_lexer": "ipython3",
   "version": "3.11.9"
  }
 },
 "nbformat": 4,
 "nbformat_minor": 5
}
