{
 "cells": [
  {
   "cell_type": "markdown",
   "id": "b90da9d5",
   "metadata": {},
   "source": [
    "# Spooky Books Author Prediction - v9\n",
    "Simplified Stratified K-Fold with tuned Logistic Regression and Naive Bayes, combined via weighted soft voting."
   ]
  },
  {
   "cell_type": "markdown",
   "id": "1c6d7bb4",
   "metadata": {},
   "source": [
    "## 1. Import Libraries"
   ]
  },
  {
   "cell_type": "code",
   "execution_count": 1,
   "id": "05e8d2c3",
   "metadata": {},
   "outputs": [],
   "source": [
    "import pandas as pd\n",
    "import numpy as np\n",
    "from scipy.stats import loguniform\n",
    "from sklearn.model_selection import StratifiedKFold, RandomizedSearchCV\n",
    "from sklearn.feature_extraction.text import TfidfVectorizer\n",
    "from sklearn.linear_model import LogisticRegression\n",
    "from sklearn.naive_bayes import MultinomialNB\n",
    "from sklearn.metrics import log_loss\n",
    "from scipy.sparse import hstack"
   ]
  },
  {
   "cell_type": "markdown",
   "id": "65992ea6",
   "metadata": {},
   "source": [
    "## 2. Load & Encode Data"
   ]
  },
  {
   "cell_type": "code",
   "execution_count": 2,
   "id": "67c8de19",
   "metadata": {},
   "outputs": [
    {
     "name": "stdout",
     "output_type": "stream",
     "text": [
      "Classes: ['EAP' 'HPL' 'MWS']\n",
      "Train shape: (19579, 3) Test shape: (8392, 2)\n"
     ]
    }
   ],
   "source": [
    "train = pd.read_csv('./train/train.csv')\n",
    "test  = pd.read_csv('./test/test.csv')\n",
    "X_text = train['text']\n",
    "y = train['author']\n",
    "X_test_text = test['text']\n",
    "\n",
    "from sklearn.preprocessing import LabelEncoder\n",
    "le = LabelEncoder()\n",
    "y_enc = le.fit_transform(y)\n",
    "print('Classes:', le.classes_)\n",
    "print('Train shape:', train.shape, 'Test shape:', test.shape)"
   ]
  },
  {
   "cell_type": "markdown",
   "id": "bee41273",
   "metadata": {},
   "source": [
    "## 3. Combined TF-IDF Features"
   ]
  },
  {
   "cell_type": "code",
   "execution_count": 3,
   "id": "44b4280f",
   "metadata": {},
   "outputs": [],
   "source": [
    "word_tf = TfidfVectorizer(ngram_range=(1,2), max_features=15000, stop_words='english')\n",
    "char_tf = TfidfVectorizer(analyzer='char_wb', ngram_range=(3,5), max_features=5000)\n",
    "\n",
    "X_word = word_tf.fit_transform(X_text)\n",
    "X_char = char_tf.fit_transform(X_text)\n",
    "X = hstack([X_word, X_char])\n",
    "\n",
    "X_test = hstack([word_tf.transform(X_test_text), char_tf.transform(X_test_text)])"
   ]
  },
  {
   "cell_type": "markdown",
   "id": "3a76aaf0",
   "metadata": {},
   "source": [
    "## 4. Hyperparameter Tuning"
   ]
  },
  {
   "cell_type": "code",
   "execution_count": 4,
   "id": "7f83152e",
   "metadata": {},
   "outputs": [
    {
     "name": "stderr",
     "output_type": "stream",
     "text": [
      "C:\\Users\\LENOVO\\AppData\\Local\\Packages\\PythonSoftwareFoundation.Python.3.11_qbz5n2kfra8p0\\LocalCache\\local-packages\\Python311\\site-packages\\sklearn\\linear_model\\_logistic.py:1247: FutureWarning: 'multi_class' was deprecated in version 1.5 and will be removed in 1.7. From then on, it will always use 'multinomial'. Leave it to its default value to avoid this warning.\n",
      "  warnings.warn(\n"
     ]
    },
    {
     "name": "stdout",
     "output_type": "stream",
     "text": [
      "LR best C: {'C': np.float64(6.79657809075816)}\n",
      "NB best alpha: {'alpha': np.float64(0.1)}\n"
     ]
    }
   ],
   "source": [
    "# Tune Logistic Regression\n",
    "lr = LogisticRegression(solver='saga', multi_class='multinomial', max_iter=2000, random_state=42, n_jobs=-1)\n",
    "lr_search = RandomizedSearchCV(\n",
    "    lr, {'C': loguniform(1e-2, 1e2)}, n_iter=10,\n",
    "    scoring='neg_log_loss', cv=5, n_jobs=-1, random_state=42\n",
    ")\n",
    "lr_search.fit(X, y_enc)\n",
    "print('LR best C:', lr_search.best_params_)\n",
    "\n",
    "# Tune MultinomialNB\n",
    "nb = MultinomialNB()\n",
    "nb_search = RandomizedSearchCV(\n",
    "    nb, {'alpha': np.linspace(0.1, 1.0, 10)}, n_iter=10,\n",
    "    scoring='neg_log_loss', cv=5, n_jobs=-1, random_state=42\n",
    ")\n",
    "nb_search.fit(X, y_enc)\n",
    "print('NB best alpha:', nb_search.best_params_)"
   ]
  },
  {
   "cell_type": "markdown",
   "id": "a2a1adb3",
   "metadata": {},
   "source": [
    "## 5. Stratified K-Fold Ensemble"
   ]
  },
  {
   "cell_type": "code",
   "execution_count": 5,
   "id": "e5dcb960",
   "metadata": {},
   "outputs": [
    {
     "name": "stdout",
     "output_type": "stream",
     "text": [
      "Weights -> LR: 0.50, NB: 0.50\n"
     ]
    },
    {
     "name": "stderr",
     "output_type": "stream",
     "text": [
      "C:\\Users\\LENOVO\\AppData\\Local\\Packages\\PythonSoftwareFoundation.Python.3.11_qbz5n2kfra8p0\\LocalCache\\local-packages\\Python311\\site-packages\\sklearn\\linear_model\\_logistic.py:1247: FutureWarning: 'multi_class' was deprecated in version 1.5 and will be removed in 1.7. From then on, it will always use 'multinomial'. Leave it to its default value to avoid this warning.\n",
      "  warnings.warn(\n"
     ]
    },
    {
     "name": "stdout",
     "output_type": "stream",
     "text": [
      "Fold 1 Log Loss: 0.3903\n"
     ]
    },
    {
     "name": "stderr",
     "output_type": "stream",
     "text": [
      "C:\\Users\\LENOVO\\AppData\\Local\\Packages\\PythonSoftwareFoundation.Python.3.11_qbz5n2kfra8p0\\LocalCache\\local-packages\\Python311\\site-packages\\sklearn\\linear_model\\_logistic.py:1247: FutureWarning: 'multi_class' was deprecated in version 1.5 and will be removed in 1.7. From then on, it will always use 'multinomial'. Leave it to its default value to avoid this warning.\n",
      "  warnings.warn(\n"
     ]
    },
    {
     "name": "stdout",
     "output_type": "stream",
     "text": [
      "Fold 2 Log Loss: 0.3678\n"
     ]
    },
    {
     "name": "stderr",
     "output_type": "stream",
     "text": [
      "C:\\Users\\LENOVO\\AppData\\Local\\Packages\\PythonSoftwareFoundation.Python.3.11_qbz5n2kfra8p0\\LocalCache\\local-packages\\Python311\\site-packages\\sklearn\\linear_model\\_logistic.py:1247: FutureWarning: 'multi_class' was deprecated in version 1.5 and will be removed in 1.7. From then on, it will always use 'multinomial'. Leave it to its default value to avoid this warning.\n",
      "  warnings.warn(\n"
     ]
    },
    {
     "name": "stdout",
     "output_type": "stream",
     "text": [
      "Fold 3 Log Loss: 0.3898\n"
     ]
    },
    {
     "name": "stderr",
     "output_type": "stream",
     "text": [
      "C:\\Users\\LENOVO\\AppData\\Local\\Packages\\PythonSoftwareFoundation.Python.3.11_qbz5n2kfra8p0\\LocalCache\\local-packages\\Python311\\site-packages\\sklearn\\linear_model\\_logistic.py:1247: FutureWarning: 'multi_class' was deprecated in version 1.5 and will be removed in 1.7. From then on, it will always use 'multinomial'. Leave it to its default value to avoid this warning.\n",
      "  warnings.warn(\n"
     ]
    },
    {
     "name": "stdout",
     "output_type": "stream",
     "text": [
      "Fold 4 Log Loss: 0.3845\n"
     ]
    },
    {
     "name": "stderr",
     "output_type": "stream",
     "text": [
      "C:\\Users\\LENOVO\\AppData\\Local\\Packages\\PythonSoftwareFoundation.Python.3.11_qbz5n2kfra8p0\\LocalCache\\local-packages\\Python311\\site-packages\\sklearn\\linear_model\\_logistic.py:1247: FutureWarning: 'multi_class' was deprecated in version 1.5 and will be removed in 1.7. From then on, it will always use 'multinomial'. Leave it to its default value to avoid this warning.\n",
      "  warnings.warn(\n"
     ]
    },
    {
     "name": "stdout",
     "output_type": "stream",
     "text": [
      "Fold 5 Log Loss: 0.3813\n",
      "Average CV Log Loss: 0.3827\n"
     ]
    }
   ],
   "source": [
    "skf = StratifiedKFold(n_splits=5, shuffle=True, random_state=42)\n",
    "test_preds = np.zeros((X_test.shape[0], len(le.classes_)))\n",
    "val_losses = []\n",
    "\n",
    "# Calculate weights inversely proportional to CV log-loss\n",
    "lr_loss = -lr_search.best_score_\n",
    "nb_loss = -nb_search.best_score_\n",
    "w_lr = nb_loss / (lr_loss + nb_loss)\n",
    "w_nb = lr_loss / (lr_loss + nb_loss)\n",
    "print(f'Weights -> LR: {w_lr:.2f}, NB: {w_nb:.2f}')\n",
    "\n",
    "for fold, (train_idx, val_idx) in enumerate(skf.split(X, y_enc)):\n",
    "    X_tr, X_val = X[train_idx], X[val_idx]\n",
    "    y_tr, y_val = y_enc[train_idx], y_enc[val_idx]\n",
    "\n",
    "    lr = LogisticRegression(C=lr_search.best_params_['C'], solver='saga', \\\n",
    "                           multi_class='multinomial', max_iter=2000, random_state=42, n_jobs=-1)\n",
    "    nb = MultinomialNB(alpha=nb_search.best_params_['alpha'])\n",
    "    \n",
    "    lr.fit(X_tr, y_tr)\n",
    "    nb.fit(X_tr, y_tr)\n",
    "\n",
    "    p_lr = lr.predict_proba(X_val)\n",
    "    p_nb = nb.predict_proba(X_val)\n",
    "    p_val = w_lr * p_lr + w_nb * p_nb\n",
    "    val_loss = log_loss(y_val, p_val)\n",
    "    val_losses.append(val_loss)\n",
    "    print(f'Fold {fold+1} Log Loss: {val_loss:.4f}')\n",
    "\n",
    "    p_test_lr = lr.predict_proba(X_test)\n",
    "    p_test_nb = nb.predict_proba(X_test)\n",
    "    test_preds += (w_lr * p_test_lr + w_nb * p_test_nb) / skf.n_splits\n",
    "\n",
    "print(f'Average CV Log Loss: {np.mean(val_losses):.4f}')"
   ]
  },
  {
   "cell_type": "markdown",
   "id": "2fd24f1f",
   "metadata": {},
   "source": [
    "## 6. Submission"
   ]
  },
  {
   "cell_type": "code",
   "execution_count": 6,
   "id": "98f8110d",
   "metadata": {},
   "outputs": [
    {
     "name": "stdout",
     "output_type": "stream",
     "text": [
      "Saved: submission_v9.csv\n"
     ]
    }
   ],
   "source": [
    "submission = pd.DataFrame(test_preds, columns=le.classes_)\n",
    "submission.insert(0, 'id', test['id'])\n",
    "submission.to_csv('./sample_submission/submission_v9.csv', index=False)\n",
    "print('Saved: submission_v9.csv')"
   ]
  }
 ],
 "metadata": {
  "kernelspec": {
   "display_name": "Python 3",
   "language": "python",
   "name": "python3"
  },
  "language_info": {
   "codemirror_mode": {
    "name": "ipython",
    "version": 3
   },
   "file_extension": ".py",
   "mimetype": "text/x-python",
   "name": "python",
   "nbconvert_exporter": "python",
   "pygments_lexer": "ipython3",
   "version": "3.11.9"
  }
 },
 "nbformat": 4,
 "nbformat_minor": 5
}
