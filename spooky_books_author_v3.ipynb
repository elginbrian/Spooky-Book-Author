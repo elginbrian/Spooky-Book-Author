{
 "cells": [
  {
   "cell_type": "markdown",
   "id": "761c0cbb",
   "metadata": {},
   "source": [
    "# Spooky Books Author Prediction - Version 3\n",
    "\n",
    "Notebook ini memperbaiki pipeline asli dengan:\n",
    "1. Peningkatan preprocessing TF-IDF\n",
    "2. Tuning hyperparameter Logistic Regression\n",
    "3. Penambahan fitur metadata teks\n",
    "4. Evaluasi cross-validation log-loss"
   ]
  },
  {
   "cell_type": "markdown",
   "id": "cfb04d65",
   "metadata": {},
   "source": [
    "## 1. Import Libraries"
   ]
  },
  {
   "cell_type": "code",
   "execution_count": 1,
   "id": "64337ce2",
   "metadata": {},
   "outputs": [],
   "source": [
    "import pandas as pd\n",
    "import numpy as np\n",
    "from sklearn.feature_extraction.text import TfidfVectorizer\n",
    "from sklearn.linear_model import LogisticRegression\n",
    "from sklearn.model_selection import StratifiedKFold, cross_val_score\n",
    "from scipy.sparse import hstack"
   ]
  },
  {
   "cell_type": "markdown",
   "id": "8a2f1736",
   "metadata": {},
   "source": [
    "## 2. Load Data"
   ]
  },
  {
   "cell_type": "code",
   "execution_count": 2,
   "id": "35d193fc",
   "metadata": {},
   "outputs": [
    {
     "name": "stdout",
     "output_type": "stream",
     "text": [
      "Train: (19579, 3) Test: (8392, 2)\n"
     ]
    }
   ],
   "source": [
    "train = pd.read_csv('./train/train.csv')\n",
    "test  = pd.read_csv('./test/test.csv')\n",
    "print('Train:', train.shape, 'Test:', test.shape)"
   ]
  },
  {
   "cell_type": "markdown",
   "id": "53baa0e3",
   "metadata": {},
   "source": [
    "## 3. Feature Engineering & TF-IDF"
   ]
  },
  {
   "cell_type": "code",
   "execution_count": 3,
   "id": "a684c66a",
   "metadata": {},
   "outputs": [],
   "source": [
    "# Metadata features: length, word count, uppercase ratio\n",
    "def extract_meta(texts):\n",
    "    lengths = [len(t) for t in texts]\n",
    "    words = [len(t.split()) for t in texts]\n",
    "    uppers = [sum(c.isupper() for c in t)/len(t) for t in texts]\n",
    "    return np.vstack([lengths, words, uppers]).T\n",
    "\n",
    "meta_train = extract_meta(train['text'])\n",
    "meta_test = extract_meta(test['text'])\n",
    "\n",
    "# TF-IDF dengan parameter ditingkatkan\n",
    "vectorizer = TfidfVectorizer(\n",
    "    max_features=10000,\n",
    "    ngram_range=(1,2),\n",
    "    stop_words='english',\n",
    "    min_df=3,\n",
    "    max_df=0.9\n",
    ")\n",
    "X_tfidf = vectorizer.fit_transform(train['text'])\n",
    "X_test_tfidf = vectorizer.transform(test['text'])\n",
    "\n",
    "# Gabungkan TF-IDF dan metadata\n",
    "X_train_full = hstack([X_tfidf, meta_train])\n",
    "X_test_full = hstack([X_test_tfidf, meta_test])"
   ]
  },
  {
   "cell_type": "markdown",
   "id": "740c7a89",
   "metadata": {},
   "source": [
    "## 4. Cross-Validation Log-loss"
   ]
  },
  {
   "cell_type": "code",
   "execution_count": 4,
   "id": "341bca26",
   "metadata": {},
   "outputs": [
    {
     "name": "stdout",
     "output_type": "stream",
     "text": [
      "CV Log-loss: 1.099856573416362 ± 0.00041719144257379594\n"
     ]
    }
   ],
   "source": [
    "# Model dengan class_weight untuk menangani ketidakseimbangan\n",
    "grid = LogisticRegression(\n",
    "    multi_class='multinomial',\n",
    "    solver='saga',\n",
    "    C=1.0,\n",
    "    max_iter=1000,\n",
    "    class_weight='balanced',\n",
    "    random_state=42\n",
    ")\n",
    "\n",
    "cv = StratifiedKFold(n_splits=5, shuffle=True, random_state=42)\n",
    "scores = cross_val_score(grid, X_train_full, train['author'],\n",
    "                         cv=cv, scoring='neg_log_loss', n_jobs=-1)\n",
    "print('CV Log-loss:', -scores.mean(), '±', scores.std())"
   ]
  },
  {
   "cell_type": "markdown",
   "id": "8a6c3134",
   "metadata": {},
   "source": [
    "## 5. Train Final Model & Predict"
   ]
  },
  {
   "cell_type": "code",
   "execution_count": 5,
   "id": "56c1c7bc",
   "metadata": {},
   "outputs": [
    {
     "name": "stderr",
     "output_type": "stream",
     "text": [
      "C:\\Users\\LENOVO\\AppData\\Local\\Packages\\PythonSoftwareFoundation.Python.3.11_qbz5n2kfra8p0\\LocalCache\\local-packages\\Python311\\site-packages\\sklearn\\linear_model\\_logistic.py:1247: FutureWarning: 'multi_class' was deprecated in version 1.5 and will be removed in 1.7. From then on, it will always use 'multinomial'. Leave it to its default value to avoid this warning.\n",
      "  warnings.warn(\n",
      "C:\\Users\\LENOVO\\AppData\\Local\\Packages\\PythonSoftwareFoundation.Python.3.11_qbz5n2kfra8p0\\LocalCache\\local-packages\\Python311\\site-packages\\sklearn\\linear_model\\_sag.py:348: ConvergenceWarning: The max_iter was reached which means the coef_ did not converge\n",
      "  warnings.warn(\n"
     ]
    },
    {
     "data": {
      "text/html": [
       "<div>\n",
       "<style scoped>\n",
       "    .dataframe tbody tr th:only-of-type {\n",
       "        vertical-align: middle;\n",
       "    }\n",
       "\n",
       "    .dataframe tbody tr th {\n",
       "        vertical-align: top;\n",
       "    }\n",
       "\n",
       "    .dataframe thead th {\n",
       "        text-align: right;\n",
       "    }\n",
       "</style>\n",
       "<table border=\"1\" class=\"dataframe\">\n",
       "  <thead>\n",
       "    <tr style=\"text-align: right;\">\n",
       "      <th></th>\n",
       "      <th>id</th>\n",
       "      <th>EAP</th>\n",
       "      <th>HPL</th>\n",
       "      <th>MWS</th>\n",
       "    </tr>\n",
       "  </thead>\n",
       "  <tbody>\n",
       "    <tr>\n",
       "      <th>0</th>\n",
       "      <td>id02310</td>\n",
       "      <td>0.327490</td>\n",
       "      <td>0.344451</td>\n",
       "      <td>0.328059</td>\n",
       "    </tr>\n",
       "    <tr>\n",
       "      <th>1</th>\n",
       "      <td>id24541</td>\n",
       "      <td>0.296788</td>\n",
       "      <td>0.329853</td>\n",
       "      <td>0.373359</td>\n",
       "    </tr>\n",
       "    <tr>\n",
       "      <th>2</th>\n",
       "      <td>id00134</td>\n",
       "      <td>0.321989</td>\n",
       "      <td>0.350467</td>\n",
       "      <td>0.327545</td>\n",
       "    </tr>\n",
       "    <tr>\n",
       "      <th>3</th>\n",
       "      <td>id27757</td>\n",
       "      <td>0.312124</td>\n",
       "      <td>0.338091</td>\n",
       "      <td>0.349784</td>\n",
       "    </tr>\n",
       "    <tr>\n",
       "      <th>4</th>\n",
       "      <td>id04081</td>\n",
       "      <td>0.323291</td>\n",
       "      <td>0.325298</td>\n",
       "      <td>0.351412</td>\n",
       "    </tr>\n",
       "  </tbody>\n",
       "</table>\n",
       "</div>"
      ],
      "text/plain": [
       "        id       EAP       HPL       MWS\n",
       "0  id02310  0.327490  0.344451  0.328059\n",
       "1  id24541  0.296788  0.329853  0.373359\n",
       "2  id00134  0.321989  0.350467  0.327545\n",
       "3  id27757  0.312124  0.338091  0.349784\n",
       "4  id04081  0.323291  0.325298  0.351412"
      ]
     },
     "execution_count": 5,
     "metadata": {},
     "output_type": "execute_result"
    }
   ],
   "source": [
    "# Latih pada seluruh data\n",
    "final_model = LogisticRegression(\n",
    "    multi_class='multinomial',\n",
    "    solver='saga',\n",
    "    C=1.0,\n",
    "    max_iter=1000,\n",
    "    class_weight='balanced',\n",
    "    random_state=42\n",
    ")\n",
    "final_model.fit(X_train_full, train['author'])\n",
    "\n",
    "# Prediksi probabilitas\n",
    "y_pred = final_model.predict_proba(X_test_full)\n",
    "submission = pd.DataFrame(y_pred, columns=final_model.classes_)\n",
    "submission.insert(0, 'id', test['id'])\n",
    "submission = submission[['id', 'EAP', 'HPL', 'MWS']]\n",
    "submission.to_csv('./sample_submission/submission_v3.csv', index=False)\n",
    "submission.head()"
   ]
  }
 ],
 "metadata": {
  "kernelspec": {
   "display_name": "Python 3",
   "language": "python",
   "name": "python3"
  },
  "language_info": {
   "codemirror_mode": {
    "name": "ipython",
    "version": 3
   },
   "file_extension": ".py",
   "mimetype": "text/x-python",
   "name": "python",
   "nbconvert_exporter": "python",
   "pygments_lexer": "ipython3",
   "version": "3.11.9"
  }
 },
 "nbformat": 4,
 "nbformat_minor": 5
}
