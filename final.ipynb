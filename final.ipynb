{
 "cells": [
  {
   "cell_type": "code",
   "execution_count": 1,
   "id": "6d071d99",
   "metadata": {},
   "outputs": [],
   "source": [
    "import pandas as pd\n",
    "import numpy as np\n",
    "from sklearn.model_selection import StratifiedKFold\n",
    "from sklearn.feature_extraction.text import TfidfVectorizer\n",
    "from sklearn.linear_model import LogisticRegression\n",
    "from sklearn.naive_bayes import MultinomialNB\n",
    "from sklearn.preprocessing import LabelEncoder\n",
    "from sklearn.metrics import log_loss\n",
    "from scipy.sparse import hstack"
   ]
  },
  {
   "cell_type": "markdown",
   "id": "cd42ba7a",
   "metadata": {},
   "source": [
    "## 1. Load Data  \n",
    "- Memuat file CSV untuk data pelatihan (`train`), data uji (`test`), dan contoh format pengiriman hasil (`sample submission`).  \n",
    "- Penting untuk memverifikasi dimensi (jumlah baris & kolom) segera setelah pembacaan, agar tahu data sudah ter-load dengan benar dan lengkap."
   ]
  },
  {
   "cell_type": "code",
   "execution_count": 2,
   "id": "8c200eef",
   "metadata": {},
   "outputs": [
    {
     "name": "stdout",
     "output_type": "stream",
     "text": [
      "  • train_df shape: (19579, 3)\n",
      "  • test_df  shape: (8392, 2)\n",
      "\n"
     ]
    }
   ],
   "source": [
    "# 1. Load data\n",
    "train_df = pd.read_csv('./train/train.csv')\n",
    "test_df = pd.read_csv('./test/test.csv')\n",
    "sample_submission = pd.read_csv('./sample_submission/sample_submission.csv')\n",
    "print(f\"  • train_df shape: {train_df.shape}\")\n",
    "print(f\"  • test_df  shape: {test_df.shape}\\n\")"
   ]
  },
  {
   "cell_type": "markdown",
   "id": "d252a5a2",
   "metadata": {},
   "source": [
    "## 2. Encode Labels\n",
    "\n",
    "### Tujuan:\n",
    "Mengubah label kategori (nama penulis seperti \"EAP\", \"HPL\", \"MWS\") menjadi angka, agar bisa diproses oleh algoritma machine learning.\n",
    "\n",
    "### Penjelasan:\n",
    "- `LabelEncoder()` dari sklearn digunakan untuk mengonversi label string menjadi angka.\n",
    "- Contohnya: `EAP -> 0`, `HPL -> 1`, `MWS -> 2`.\n",
    "- Kita menyimpan `mapping` dari kelas string ke angka agar bisa digunakan lagi nanti saat membuat submission.\n",
    "\n",
    "### Kenapa ini penting?\n",
    "Sebagian besar algoritma supervised learning di scikit-learn hanya menerima label dalam bentuk numerik. Encoding label memungkinkan kita menjalankan training dan evaluasi dengan lancar."
   ]
  },
  {
   "cell_type": "code",
   "execution_count": 3,
   "id": "b5b67f5c",
   "metadata": {},
   "outputs": [
    {
     "name": "stdout",
     "output_type": "stream",
     "text": [
      "  • classes: ['EAP' 'HPL' 'MWS']\n",
      "  • mapping: {'EAP': np.int64(0), 'HPL': np.int64(1), 'MWS': np.int64(2)}\n",
      "\n"
     ]
    }
   ],
   "source": [
    "# 2. Encode labels\n",
    "label_encoder = LabelEncoder()\n",
    "train_df['author_encoded'] = label_encoder.fit_transform(train_df['author'])\n",
    "mapping = dict(zip(label_encoder.classes_, label_encoder.transform(label_encoder.classes_)))\n",
    "print(f\"  • classes: {label_encoder.classes_}\")\n",
    "print(f\"  • mapping: {mapping}\\n\")"
   ]
  },
  {
   "cell_type": "markdown",
   "id": "8d4e72a2",
   "metadata": {},
   "source": [
    "## 3. TF–IDF Vectorization (Word + Character)\n",
    "\n",
    "### Tujuan:\n",
    "Mengubah teks menjadi representasi numerik agar dapat diproses oleh model machine learning.\n",
    "\n",
    "### Penjelasan:\n",
    "- **TF-IDF (Term Frequency – Inverse Document Frequency)** digunakan untuk memberikan bobot pada kata atau karakter berdasarkan frekuensi kemunculannya di dokumen dan seluruh korpus.\n",
    "- Dua jenis vectorizer digunakan:\n",
    "  - `TfidfVectorizer` berbasis **kata** (`word`, ngram 1–2) untuk menangkap konteks kata dan frasa umum.\n",
    "  - `TfidfVectorizer` berbasis **karakter** (`char`, ngram 2–5) untuk menangkap pola mikro seperti gaya penulisan, typo, atau ciri khas pengarang.\n",
    "- Hasil dari kedua vectorizer digabung menggunakan `hstack()` dari scipy menjadi satu matriks fitur besar.\n",
    "- Proses yang sama juga diterapkan ke data uji (`test_df`).\n",
    "\n",
    "### Kenapa ini penting?\n",
    "Menggabungkan word- dan char-level TF-IDF memperkaya informasi yang didapat dari teks dan meningkatkan performa klasifikasi, terutama ketika pengarang memiliki gaya penulisan yang khas."
   ]
  },
  {
   "cell_type": "code",
   "execution_count": 4,
   "id": "33830fb3",
   "metadata": {},
   "outputs": [
    {
     "name": "stdout",
     "output_type": "stream",
     "text": [
      "  • X_word shape: (19579, 15000)\n",
      "  • X_char shape: (19579, 5000)\n",
      "  • Combined X shape: (19579, 20000)\n",
      "\n",
      "  • X_test shape: (8392, 20000)\n",
      "\n"
     ]
    }
   ],
   "source": [
    "# 3. TF-IDF vectorization (Word + Char)\n",
    "word_vectorizer = TfidfVectorizer(\n",
    "    analyzer='word',\n",
    "    ngram_range=(1, 2),\n",
    "    max_features=15000,\n",
    "    stop_words='english'\n",
    ")\n",
    "char_vectorizer = TfidfVectorizer(\n",
    "    analyzer='char',\n",
    "    ngram_range=(2, 5),\n",
    "    max_features=5000\n",
    ")\n",
    "\n",
    "X_word = word_vectorizer.fit_transform(train_df['text'])\n",
    "X_char = char_vectorizer.fit_transform(train_df['text'])\n",
    "X = hstack([X_word, X_char])\n",
    "y = train_df['author_encoded']\n",
    "\n",
    "X_test_word = word_vectorizer.transform(test_df['text'])\n",
    "X_test_char = char_vectorizer.transform(test_df['text'])\n",
    "X_test = hstack([X_test_word, X_test_char])\n",
    "\n",
    "print(f\"  • X_word shape: {X_word.shape}\")\n",
    "print(f\"  • X_char shape: {X_char.shape}\")\n",
    "print(f\"  • Combined X shape: {X.shape}\\n\")\n",
    "print(f\"  • X_test shape: {X_test.shape}\\n\")"
   ]
  },
  {
   "cell_type": "markdown",
   "id": "0e5a8ad2",
   "metadata": {},
   "source": [
    "## 4. Stratified K-Fold Training & Ensembling\n",
    "\n",
    "### Tujuan:\n",
    "Melatih model dan mengevaluasinya secara adil dengan pembagian data menggunakan teknik cross-validation, lalu menggabungkan hasil prediksi.\n",
    "\n",
    "### Penjelasan:\n",
    "- **StratifiedKFold** membagi data latih menjadi 5 bagian (fold), dengan memastikan distribusi label tetap seimbang di setiap fold (stratifikasi).\n",
    "- Untuk setiap fold:\n",
    "  1. Data dilatih pada 4 bagian dan divalidasi pada 1 bagian sisanya.\n",
    "  2. Dua model digunakan:\n",
    "     - **Logistic Regression (multinomial)**: Cocok untuk klasifikasi multiclass dan memiliki performa bagus pada data TF-IDF.\n",
    "     - **Multinomial Naive Bayes**: Model probabilistik yang sederhana tapi sangat cocok untuk data teks.\n",
    "  3. Hasil prediksi dari kedua model digabung menggunakan **soft voting**, yaitu rata-rata dari probabilitas prediksi.\n",
    "  4. Evaluasi dilakukan menggunakan **log loss**, yang mengukur seberapa baik model memperkirakan probabilitas yang benar.\n",
    "- Setelah semua fold selesai, hasil prediksi pada test set dirata-rata untuk semua fold.\n",
    "\n",
    "### Kenapa ini penting?\n",
    "- **Cross-validation** memberi estimasi performa yang lebih stabil dan adil daripada satu kali split.\n",
    "- **Soft voting ensemble** menggabungkan kekuatan dua model yang berbeda sehingga lebih akurat dan tahan terhadap overfitting.\n",
    "- **Log loss** adalah metrik yang sangat baik untuk tugas klasifikasi probabilistik karena menghukum prediksi yang terlalu yakin tapi salah."
   ]
  },
  {
   "cell_type": "code",
   "execution_count": 5,
   "id": "a8708230",
   "metadata": {},
   "outputs": [
    {
     "name": "stdout",
     "output_type": "stream",
     "text": [
      "▶ Starting Fold 0/5...\n",
      "    • X_train shape: (15663, 20000), y_train distribution: [6320 4508 4835]\n",
      "    • X_val   shape: (3916, 20000), y_val   distribution: [1580 1127 1209]\n"
     ]
    },
    {
     "name": "stderr",
     "output_type": "stream",
     "text": [
      "C:\\Users\\LENOVO\\AppData\\Local\\Packages\\PythonSoftwareFoundation.Python.3.11_qbz5n2kfra8p0\\LocalCache\\local-packages\\Python311\\site-packages\\sklearn\\linear_model\\_logistic.py:1247: FutureWarning: 'multi_class' was deprecated in version 1.5 and will be removed in 1.7. From then on, it will always use 'multinomial'. Leave it to its default value to avoid this warning.\n",
      "  warnings.warn(\n"
     ]
    },
    {
     "name": "stdout",
     "output_type": "stream",
     "text": [
      "    • LR sample probs (first val row): [6.16404359e-01 3.83249456e-01 3.46185588e-04]\n",
      "    • NB sample probs (first val row): [0.92308394 0.07561432 0.00130173]\n",
      "    ✔ Fold 0 Log Loss: 0.3956\n",
      "\n",
      "▶ Starting Fold 1/5...\n",
      "    • X_train shape: (15663, 20000), y_train distribution: [6320 4508 4835]\n",
      "    • X_val   shape: (3916, 20000), y_val   distribution: [1580 1127 1209]\n"
     ]
    },
    {
     "name": "stderr",
     "output_type": "stream",
     "text": [
      "C:\\Users\\LENOVO\\AppData\\Local\\Packages\\PythonSoftwareFoundation.Python.3.11_qbz5n2kfra8p0\\LocalCache\\local-packages\\Python311\\site-packages\\sklearn\\linear_model\\_logistic.py:1247: FutureWarning: 'multi_class' was deprecated in version 1.5 and will be removed in 1.7. From then on, it will always use 'multinomial'. Leave it to its default value to avoid this warning.\n",
      "  warnings.warn(\n"
     ]
    },
    {
     "name": "stdout",
     "output_type": "stream",
     "text": [
      "    • LR sample probs (first val row): [1.67734809e-04 1.37063414e-03 9.98461631e-01]\n",
      "    • NB sample probs (first val row): [0.00113132 0.0099582  0.98891048]\n",
      "    ✔ Fold 1 Log Loss: 0.3722\n",
      "\n",
      "▶ Starting Fold 2/5...\n",
      "    • X_train shape: (15663, 20000), y_train distribution: [6320 4508 4835]\n",
      "    • X_val   shape: (3916, 20000), y_val   distribution: [1580 1127 1209]\n"
     ]
    },
    {
     "name": "stderr",
     "output_type": "stream",
     "text": [
      "C:\\Users\\LENOVO\\AppData\\Local\\Packages\\PythonSoftwareFoundation.Python.3.11_qbz5n2kfra8p0\\LocalCache\\local-packages\\Python311\\site-packages\\sklearn\\linear_model\\_logistic.py:1247: FutureWarning: 'multi_class' was deprecated in version 1.5 and will be removed in 1.7. From then on, it will always use 'multinomial'. Leave it to its default value to avoid this warning.\n",
      "  warnings.warn(\n"
     ]
    },
    {
     "name": "stdout",
     "output_type": "stream",
     "text": [
      "    • LR sample probs (first val row): [0.99353156 0.00306576 0.00340267]\n",
      "    • NB sample probs (first val row): [0.98912988 0.00368676 0.00718336]\n",
      "    ✔ Fold 2 Log Loss: 0.3942\n",
      "\n",
      "▶ Starting Fold 3/5...\n",
      "    • X_train shape: (15663, 20000), y_train distribution: [6320 4508 4835]\n",
      "    • X_val   shape: (3916, 20000), y_val   distribution: [1580 1127 1209]\n"
     ]
    },
    {
     "name": "stderr",
     "output_type": "stream",
     "text": [
      "C:\\Users\\LENOVO\\AppData\\Local\\Packages\\PythonSoftwareFoundation.Python.3.11_qbz5n2kfra8p0\\LocalCache\\local-packages\\Python311\\site-packages\\sklearn\\linear_model\\_logistic.py:1247: FutureWarning: 'multi_class' was deprecated in version 1.5 and will be removed in 1.7. From then on, it will always use 'multinomial'. Leave it to its default value to avoid this warning.\n",
      "  warnings.warn(\n"
     ]
    },
    {
     "name": "stdout",
     "output_type": "stream",
     "text": [
      "    • LR sample probs (first val row): [0.01541246 0.00528238 0.97930515]\n",
      "    • NB sample probs (first val row): [0.03661721 0.00228845 0.96109434]\n",
      "    ✔ Fold 3 Log Loss: 0.3797\n",
      "\n",
      "▶ Starting Fold 4/5...\n",
      "    • X_train shape: (15664, 20000), y_train distribution: [6320 4508 4836]\n",
      "    • X_val   shape: (3915, 20000), y_val   distribution: [1580 1127 1208]\n"
     ]
    },
    {
     "name": "stderr",
     "output_type": "stream",
     "text": [
      "C:\\Users\\LENOVO\\AppData\\Local\\Packages\\PythonSoftwareFoundation.Python.3.11_qbz5n2kfra8p0\\LocalCache\\local-packages\\Python311\\site-packages\\sklearn\\linear_model\\_logistic.py:1247: FutureWarning: 'multi_class' was deprecated in version 1.5 and will be removed in 1.7. From then on, it will always use 'multinomial'. Leave it to its default value to avoid this warning.\n",
      "  warnings.warn(\n"
     ]
    },
    {
     "name": "stdout",
     "output_type": "stream",
     "text": [
      "    • LR sample probs (first val row): [0.38783265 0.29057145 0.3215959 ]\n",
      "    • NB sample probs (first val row): [0.75880302 0.18406893 0.05712805]\n",
      "    ✔ Fold 4 Log Loss: 0.3828\n",
      "\n",
      "\n",
      "Average Log Loss across folds: 0.3849\n"
     ]
    }
   ],
   "source": [
    "# 4. Model training with Stratified K-Fold\n",
    "NUM_FOLDS = 5\n",
    "skf = StratifiedKFold(n_splits=NUM_FOLDS, shuffle=True, random_state=42)\n",
    "\n",
    "test_preds = np.zeros((X_test.shape[0], 3))\n",
    "val_losses = []\n",
    "\n",
    "for fold, (train_idx, val_idx) in enumerate(skf.split(X, y)):\n",
    "    print(f\"▶ Starting Fold {fold}/{NUM_FOLDS}...\")\n",
    "    X_train, X_val = X[train_idx], X[val_idx]\n",
    "    y_train, y_val = y.iloc[train_idx], y.iloc[val_idx]\n",
    "\n",
    "    print(f\"    • X_train shape: {X_train.shape}, y_train distribution: {np.bincount(y_train)}\")\n",
    "    print(f\"    • X_val   shape: {X_val.shape}, y_val   distribution: {np.bincount(y_val)}\")\n",
    "\n",
    "    # Model 1: Logistic Regression\n",
    "    logreg = LogisticRegression(\n",
    "        C=10,\n",
    "        solver='lbfgs',\n",
    "        multi_class='multinomial',\n",
    "        max_iter=2000,\n",
    "        random_state=42\n",
    "    )\n",
    "    logreg.fit(X_train, y_train)\n",
    "    val_pred_logreg = logreg.predict_proba(X_val)\n",
    "    test_pred_logreg = logreg.predict_proba(X_test)\n",
    "    print(f\"    • LR sample probs (first val row): {val_pred_logreg[0]}\")\n",
    "\n",
    "    # Model 2: Naive Bayes\n",
    "    nb = MultinomialNB(alpha=0.3)\n",
    "    nb.fit(X_train, y_train)\n",
    "    val_pred_nb = nb.predict_proba(X_val)\n",
    "    test_pred_nb = nb.predict_proba(X_test)\n",
    "    print(f\"    • NB sample probs (first val row): {val_pred_nb[0]}\")\n",
    "    \n",
    "    # Soft Voting Ensemble (average probability)\n",
    "    val_pred = (val_pred_logreg + val_pred_nb) / 2\n",
    "    test_pred = (test_pred_logreg + test_pred_nb) / 2\n",
    "\n",
    "    loss = log_loss(y_val, val_pred)\n",
    "    val_losses.append(loss)\n",
    "    print(f\"    ✔ Fold {fold} Log Loss: {loss:.4f}\\n\")\n",
    "\n",
    "    test_preds += test_pred / NUM_FOLDS\n",
    "\n",
    "# 5. Output final average log loss\n",
    "print(f\"\\nAverage Log Loss across folds: {np.mean(val_losses):.4f}\")"
   ]
  },
  {
   "cell_type": "markdown",
   "id": "825d772a",
   "metadata": {},
   "source": [
    "## 5. Prepare Submission\n",
    "\n",
    "### Tujuan:\n",
    "Menyusun prediksi akhir ke dalam format yang dapat diunggah sebagai hasil kompetisi.\n",
    "\n",
    "### Penjelasan:\n",
    "- Menggunakan prediksi rata-rata dari seluruh fold.\n",
    "- Probabilitas setiap kelas (`EAP`, `HPL`, `MWS`) disusun dalam DataFrame sesuai urutan yang diminta.\n",
    "- File CSV disimpan dengan nama `submission.csv` dan tidak menyertakan index.\n",
    "\n",
    "### Kenapa ini penting?\n",
    "Hasil akhir harus sesuai dengan format yang disyaratkan platform kompetisi (seperti Kaggle). Kesalahan format dapat menyebabkan file ditolak atau hasil tidak valid, walaupun prediksi kita benar."
   ]
  },
  {
   "cell_type": "code",
   "execution_count": 6,
   "id": "8e9d7323",
   "metadata": {},
   "outputs": [
    {
     "name": "stdout",
     "output_type": "stream",
     "text": [
      "✅ Submission saved as submission.csv\n"
     ]
    }
   ],
   "source": [
    "# 6. Prepare submission\n",
    "submission = pd.DataFrame({\n",
    "    'id': test_df['id'],\n",
    "    'EAP': test_preds[:, label_encoder.transform(['EAP'])[0]],\n",
    "    'HPL': test_preds[:, label_encoder.transform(['HPL'])[0]],\n",
    "    'MWS': test_preds[:, label_encoder.transform(['MWS'])[0]],\n",
    "})\n",
    "\n",
    "submission.to_csv('submission.csv', index=False)\n",
    "print(\"✅ Submission saved as submission.csv\")"
   ]
  }
 ],
 "metadata": {
  "kernelspec": {
   "display_name": "Python 3",
   "language": "python",
   "name": "python3"
  },
  "language_info": {
   "codemirror_mode": {
    "name": "ipython",
    "version": 3
   },
   "file_extension": ".py",
   "mimetype": "text/x-python",
   "name": "python",
   "nbconvert_exporter": "python",
   "pygments_lexer": "ipython3",
   "version": "3.11.9"
  }
 },
 "nbformat": 4,
 "nbformat_minor": 5
}
