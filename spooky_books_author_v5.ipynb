{
  "cells": [
    {
      "cell_type": "markdown",
      "metadata": {},
      "source": [
        "# Spooky Books Author Prediction - Version 5\n",
        "Pipeline ringan tanpa stacking berat:\n",
        "1. TF-IDF (unigram + bigram)\n",
        "2. Feature selection opsional\n",
        "3. Dua model efisien: Logistic Regression & MultinomialNB\n",
        "4. Voting ensemble sederhana\n",
        "5. Cross-validation & evaluasi log-loss\n",
        "6. Buat submission"
      ]
    },
    {
      "cell_type": "markdown",
      "metadata": {},
      "source": [
        "## 1. Import Libraries"
      ]
    },
    {
      "cell_type": "code",
      "execution_count": 20,
      "metadata": {},
      "outputs": [],
      "source": [
        "import pandas as pd\n",
        "import numpy as np\n",
        "from sklearn.feature_extraction.text import TfidfVectorizer\n",
        "from sklearn.linear_model import LogisticRegression\n",
        "from sklearn.naive_bayes import MultinomialNB\n",
        "from sklearn.ensemble import VotingClassifier\n",
        "from sklearn.model_selection import StratifiedKFold, cross_val_score\n",
        "from sklearn.pipeline import Pipeline\n",
        "from sklearn.metrics import log_loss"
      ]
    },
    {
      "cell_type": "markdown",
      "metadata": {},
      "source": [
        "## 2. Load Data"
      ]
    },
    {
      "cell_type": "code",
      "execution_count": 21,
      "metadata": {},
      "outputs": [
        {
          "name": "stdout",
          "output_type": "stream",
          "text": [
            "Train: (19579, 3) Test: (8392, 2)\n"
          ]
        }
      ],
      "source": [
        "train = pd.read_csv('./train/train.csv')\n",
        "test  = pd.read_csv('./test/test.csv')\n",
        "X, y = train['text'], train['author']\n",
        "X_test = test['text']\n",
        "print('Train:', train.shape, 'Test:', test.shape)"
      ]
    },
    {
      "cell_type": "markdown",
      "metadata": {},
      "source": [
        "## 3. Build Base Pipelines"
      ]
    },
    {
      "cell_type": "code",
      "execution_count": 22,
      "metadata": {},
      "outputs": [],
      "source": [
        "pipe_lr = Pipeline([\n",
        "    ('tfidf', TfidfVectorizer(max_features=5000, ngram_range=(1,2), stop_words='english')),\n",
        "    ('clf', LogisticRegression(multi_class='multinomial', solver='saga', max_iter=500, random_state=42))\n",
        "])\n",
        "\n",
        "pipe_nb = Pipeline([\n",
        "    ('tfidf', TfidfVectorizer(max_features=5000, ngram_range=(1,2), stop_words='english')),\n",
        "    ('clf', MultinomialNB())\n",
        "])"
      ]
    },
    {
      "cell_type": "markdown",
      "metadata": {},
      "source": [
        "## 4. Ensemble Voting"
      ]
    },
    {
      "cell_type": "code",
      "execution_count": 23,
      "metadata": {},
      "outputs": [],
      "source": [
        "ensemble = VotingClassifier(\n",
        "    estimators=[('lr', pipe_lr), ('nb', pipe_nb)],\n",
        "    voting='soft',\n",
        "    n_jobs=-1\n",
        ")"
      ]
    },
    {
      "cell_type": "markdown",
      "metadata": {},
      "source": [
        "## 5. Cross-Validation Log-loss"
      ]
    },
    {
      "cell_type": "code",
      "execution_count": 24,
      "metadata": {},
      "outputs": [
        {
          "name": "stdout",
          "output_type": "stream",
          "text": [
            "CV Log-loss: 0.5941 ± 0.0055\n"
          ]
        }
      ],
      "source": [
        "cv = StratifiedKFold(n_splits=5, shuffle=True, random_state=42)\n",
        "scores = -cross_val_score(ensemble, X, y, cv=cv, scoring='neg_log_loss', n_jobs=-1)\n",
        "print(f'CV Log-loss: {scores.mean():.4f} ± {scores.std():.4f}')"
      ]
    },
    {
      "cell_type": "markdown",
      "metadata": {},
      "source": [
        "## 6. Train & Predict\n"
      ]
    },
    {
      "cell_type": "code",
      "execution_count": 25,
      "metadata": {},
      "outputs": [],
      "source": [
        "ensemble.fit(X, y)\n",
        "y_pred = ensemble.predict_proba(X_test)"
      ]
    },
    {
      "cell_type": "markdown",
      "metadata": {},
      "source": [
        "## 7. Create Submission"
      ]
    },
    {
      "cell_type": "code",
      "execution_count": 26,
      "metadata": {},
      "outputs": [
        {
          "data": {
            "text/html": [
              "<div>\n",
              "<style scoped>\n",
              "    .dataframe tbody tr th:only-of-type {\n",
              "        vertical-align: middle;\n",
              "    }\n",
              "\n",
              "    .dataframe tbody tr th {\n",
              "        vertical-align: top;\n",
              "    }\n",
              "\n",
              "    .dataframe thead th {\n",
              "        text-align: right;\n",
              "    }\n",
              "</style>\n",
              "<table border=\"1\" class=\"dataframe\">\n",
              "  <thead>\n",
              "    <tr style=\"text-align: right;\">\n",
              "      <th></th>\n",
              "      <th>id</th>\n",
              "      <th>EAP</th>\n",
              "      <th>HPL</th>\n",
              "      <th>MWS</th>\n",
              "    </tr>\n",
              "  </thead>\n",
              "  <tbody>\n",
              "    <tr>\n",
              "      <th>0</th>\n",
              "      <td>id02310</td>\n",
              "      <td>0.296994</td>\n",
              "      <td>0.091558</td>\n",
              "      <td>0.611448</td>\n",
              "    </tr>\n",
              "    <tr>\n",
              "      <th>1</th>\n",
              "      <td>id24541</td>\n",
              "      <td>0.787731</td>\n",
              "      <td>0.121854</td>\n",
              "      <td>0.090416</td>\n",
              "    </tr>\n",
              "    <tr>\n",
              "      <th>2</th>\n",
              "      <td>id00134</td>\n",
              "      <td>0.472462</td>\n",
              "      <td>0.457572</td>\n",
              "      <td>0.069966</td>\n",
              "    </tr>\n",
              "    <tr>\n",
              "      <th>3</th>\n",
              "      <td>id27757</td>\n",
              "      <td>0.641890</td>\n",
              "      <td>0.310674</td>\n",
              "      <td>0.047436</td>\n",
              "    </tr>\n",
              "    <tr>\n",
              "      <th>4</th>\n",
              "      <td>id04081</td>\n",
              "      <td>0.738948</td>\n",
              "      <td>0.169696</td>\n",
              "      <td>0.091356</td>\n",
              "    </tr>\n",
              "  </tbody>\n",
              "</table>\n",
              "</div>"
            ],
            "text/plain": [
              "        id       EAP       HPL       MWS\n",
              "0  id02310  0.296994  0.091558  0.611448\n",
              "1  id24541  0.787731  0.121854  0.090416\n",
              "2  id00134  0.472462  0.457572  0.069966\n",
              "3  id27757  0.641890  0.310674  0.047436\n",
              "4  id04081  0.738948  0.169696  0.091356"
            ]
          },
          "execution_count": 26,
          "metadata": {},
          "output_type": "execute_result"
        }
      ],
      "source": [
        "submission = pd.DataFrame(y_pred, columns=ensemble.classes_)\n",
        "submission.insert(0, 'id', test['id'])\n",
        "submission.to_csv('./sample_submission/submission_v5.csv', index=False)\n",
        "submission.head()"
      ]
    }
  ],
  "metadata": {
    "kernelspec": {
      "display_name": "Python 3",
      "language": "python",
      "name": "python3"
    },
    "language_info": {
      "name": "python"
    }
  },
  "nbformat": 4,
  "nbformat_minor": 2
}
